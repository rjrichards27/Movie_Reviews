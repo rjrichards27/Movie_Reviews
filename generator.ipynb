{
 "cells": [
  {
   "cell_type": "code",
   "execution_count": 40,
   "source": [
    "import pandas as pd\n",
    "from pathlib import Path\n",
    "import pandas as pd\n",
    "\n",
    "'''PARENT = \"Playlist_Generator\"\n",
    "path1 = Path(PARENT).parent / \"../Data/Top_100_Songs\"\n",
    "top = pd.read_csv(path1)'''\n",
    "\n",
    "top = pd.read_csv(\"~/Desktop/ece684/songs_1970_2018_uniq.csv\", encoding='cp1252')"
   ],
   "outputs": [],
   "metadata": {}
  },
  {
   "cell_type": "code",
   "execution_count": 45,
   "source": [
    "top[\"artist\"] = top[\"artist\"].astype('str')\n",
    "top[\"title\"] = top[\"title\"].astype('str')"
   ],
   "outputs": [],
   "metadata": {}
  },
  {
   "cell_type": "code",
   "execution_count": 42,
   "source": [
    "adj = None\n",
    "artist = \"One Direction\""
   ],
   "outputs": [],
   "metadata": {}
  },
  {
   "cell_type": "code",
   "execution_count": 48,
   "source": [
    "artist_subset = top[top[\"artist\"] == artist]"
   ],
   "outputs": [],
   "metadata": {}
  },
  {
   "cell_type": "code",
   "execution_count": null,
   "source": [
    "playlist = []\n",
    "for i in artist_subset[\"title\"]:\n",
    "    song_sent = sentiment(i)    #sentiment will be a function in a different file\n",
    "    if song_sent == adj:\n",
    "        playlist.append(i)\n",
    "#return playlist"
   ],
   "outputs": [],
   "metadata": {}
  }
 ],
 "metadata": {
  "orig_nbformat": 4,
  "language_info": {
   "name": "python",
   "version": "3.9.5",
   "mimetype": "text/x-python",
   "codemirror_mode": {
    "name": "ipython",
    "version": 3
   },
   "pygments_lexer": "ipython3",
   "nbconvert_exporter": "python",
   "file_extension": ".py"
  },
  "kernelspec": {
   "name": "python3",
   "display_name": "Python 3.9.5 64-bit ('base': conda)"
  },
  "interpreter": {
   "hash": "38c18047c26b703873e5d1c67aa077ffaecd4253521ad5525ad97427484c7053"
  }
 },
 "nbformat": 4,
 "nbformat_minor": 2
}