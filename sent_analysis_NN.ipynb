{
 "cells": [
  {
   "cell_type": "code",
   "execution_count": 140,
   "source": [
    "import pandas as pd\n",
    "import numpy as np\n",
    "import re\n",
    "import nltk\n",
    "from nltk.corpus import stopwords\n",
    "from sklearn.model_selection import train_test_split\n",
    "\n",
    "from numpy import array\n",
    "\n",
    "\n",
    "\"\"\"from keras.preprocessing.text import Tokenizer\n",
    "\n",
    "from keras.preprocessing.text import one_hot\n",
    "from keras.preprocessing.sequence import pad_sequences\n",
    "from keras.models import Sequential\n",
    "from keras.layers.core import Activation, Dropout, Dense\n",
    "from keras.layers import Flatten\n",
    "from keras.layers import GlobalMaxPooling1D\n",
    "from keras.layers.embeddings import Embedding\"\"\"\n"
   ],
   "outputs": [
    {
     "output_type": "execute_result",
     "data": {
      "text/plain": [
       "'from keras.preprocessing.text import Tokenizer\\n\\nfrom keras.preprocessing.text import one_hot\\nfrom keras.preprocessing.sequence import pad_sequences\\nfrom keras.models import Sequential\\nfrom keras.layers.core import Activation, Dropout, Dense\\nfrom keras.layers import Flatten\\nfrom keras.layers import GlobalMaxPooling1D\\nfrom keras.layers.embeddings import Embedding'"
      ]
     },
     "metadata": {},
     "execution_count": 140
    }
   ],
   "metadata": {}
  },
  {
   "cell_type": "code",
   "execution_count": 141,
   "source": [
    "reviews = pd.read_csv(\"~/Desktop/ece684/movies.csv\")\n",
    "reviews\n"
   ],
   "outputs": [
    {
     "output_type": "execute_result",
     "data": {
      "text/plain": [
       "                                                   text  label\n",
       "0     I always wrote this series off as being a comp...      0\n",
       "1     1st watched 12/7/2002 - 3 out of 10(Dir-Steve ...      0\n",
       "2     This movie was so poorly written and directed ...      0\n",
       "3     The most interesting thing about Miryang (Secr...      1\n",
       "4     when i first read about \"berlin am meer\" i did...      0\n",
       "...                                                 ...    ...\n",
       "4995  This is the kind of picture John Lassiter woul...      1\n",
       "4996  A MUST SEE! I saw WHIPPED at a press screening...      1\n",
       "4997  NBC should be ashamed. I wouldn't allow my chi...      0\n",
       "4998  This movie is a clumsy mishmash of various gho...      0\n",
       "4999  Formula movie about the illegitimate son of a ...      0\n",
       "\n",
       "[5000 rows x 2 columns]"
      ],
      "text/html": [
       "<div>\n",
       "<style scoped>\n",
       "    .dataframe tbody tr th:only-of-type {\n",
       "        vertical-align: middle;\n",
       "    }\n",
       "\n",
       "    .dataframe tbody tr th {\n",
       "        vertical-align: top;\n",
       "    }\n",
       "\n",
       "    .dataframe thead th {\n",
       "        text-align: right;\n",
       "    }\n",
       "</style>\n",
       "<table border=\"1\" class=\"dataframe\">\n",
       "  <thead>\n",
       "    <tr style=\"text-align: right;\">\n",
       "      <th></th>\n",
       "      <th>text</th>\n",
       "      <th>label</th>\n",
       "    </tr>\n",
       "  </thead>\n",
       "  <tbody>\n",
       "    <tr>\n",
       "      <th>0</th>\n",
       "      <td>I always wrote this series off as being a comp...</td>\n",
       "      <td>0</td>\n",
       "    </tr>\n",
       "    <tr>\n",
       "      <th>1</th>\n",
       "      <td>1st watched 12/7/2002 - 3 out of 10(Dir-Steve ...</td>\n",
       "      <td>0</td>\n",
       "    </tr>\n",
       "    <tr>\n",
       "      <th>2</th>\n",
       "      <td>This movie was so poorly written and directed ...</td>\n",
       "      <td>0</td>\n",
       "    </tr>\n",
       "    <tr>\n",
       "      <th>3</th>\n",
       "      <td>The most interesting thing about Miryang (Secr...</td>\n",
       "      <td>1</td>\n",
       "    </tr>\n",
       "    <tr>\n",
       "      <th>4</th>\n",
       "      <td>when i first read about \"berlin am meer\" i did...</td>\n",
       "      <td>0</td>\n",
       "    </tr>\n",
       "    <tr>\n",
       "      <th>...</th>\n",
       "      <td>...</td>\n",
       "      <td>...</td>\n",
       "    </tr>\n",
       "    <tr>\n",
       "      <th>4995</th>\n",
       "      <td>This is the kind of picture John Lassiter woul...</td>\n",
       "      <td>1</td>\n",
       "    </tr>\n",
       "    <tr>\n",
       "      <th>4996</th>\n",
       "      <td>A MUST SEE! I saw WHIPPED at a press screening...</td>\n",
       "      <td>1</td>\n",
       "    </tr>\n",
       "    <tr>\n",
       "      <th>4997</th>\n",
       "      <td>NBC should be ashamed. I wouldn't allow my chi...</td>\n",
       "      <td>0</td>\n",
       "    </tr>\n",
       "    <tr>\n",
       "      <th>4998</th>\n",
       "      <td>This movie is a clumsy mishmash of various gho...</td>\n",
       "      <td>0</td>\n",
       "    </tr>\n",
       "    <tr>\n",
       "      <th>4999</th>\n",
       "      <td>Formula movie about the illegitimate son of a ...</td>\n",
       "      <td>0</td>\n",
       "    </tr>\n",
       "  </tbody>\n",
       "</table>\n",
       "<p>5000 rows × 2 columns</p>\n",
       "</div>"
      ]
     },
     "metadata": {},
     "execution_count": 141
    }
   ],
   "metadata": {}
  },
  {
   "cell_type": "code",
   "execution_count": 142,
   "source": [
    "reviews.isnull().values.any()\n",
    "# The data set has no missing values\n",
    "\n"
   ],
   "outputs": [
    {
     "output_type": "execute_result",
     "data": {
      "text/plain": [
       "False"
      ]
     },
     "metadata": {},
     "execution_count": 142
    }
   ],
   "metadata": {}
  },
  {
   "cell_type": "code",
   "execution_count": 143,
   "source": [
    "reviews[\"text\"][6]\n"
   ],
   "outputs": [
    {
     "output_type": "execute_result",
     "data": {
      "text/plain": [
       "\"I saw a screening of this movie last night. I had high expectations going into it, but was definitely disappointed. Within 5 minutes of the opening, Williams is already campaigning for his presidency. And he becomes president in the first 40 minutes. So there goes all that aspect of the movie. The first half hour are hilarious. Don't get me wrong, the movie has its moments. But after the first half hour, it takes a turn for the worst. It becomes less of a comedy, and more of a thriller/drama/love story...which is pointless. the movie goes nowhere and stands still for a good 30 minutes. there are laughs interspersed here and there, but the consistently funny part is in the beginning and only the beginning. at one point, the biggest cheer i heard in the audience is when a person in the crowd yelled 'boooo' during a very confusingly emotional scene. Williams gives a great performance, right on par with his comedic style. Walken also delivers a strong supporting role as only he can. I think the one character that goes underrated is Lewis Black. Consistently vulgar and political, its funny to see him tone it down for a PG-13 rating. Overall, I would not pay to see the movie. Afterall, I saw it for free and even I was disappointed. The first half hour is solid, and its all downhill from there. Not really fitting into a category, the movie realizes half way through that it should not have been anything more than a one-hour comedy central special. 4.5/10\""
      ]
     },
     "metadata": {},
     "execution_count": 143
    }
   ],
   "metadata": {}
  },
  {
   "cell_type": "code",
   "execution_count": 144,
   "source": [
    "import re\n",
    "\n",
    "# Reformats Reviews\n",
    "\n",
    "\n",
    "def cleanReview(rev):\n",
    "    # Removing anything within a HTML tag\n",
    "    edited_rev = re.compile(r\"<[^>]+>\").sub(\" \", rev)\n",
    "    # Removing Punctuation\n",
    "    edited_rev = re.sub(r\"[^\\w\\s]\", \" \", edited_rev)\n",
    "    # Removing Numbers\n",
    "    edited_rev = re.sub(r\"[0-9]\", \" \", edited_rev)\n",
    "    # Removing single characters\n",
    "    edited_rev = re.sub(r\"\\s+[a-zA-Z]\\s+\", \" \", edited_rev)\n",
    "    # Removing multiple spaces\n",
    "    edited_rev = re.sub(r\"\\s+\", \" \", edited_rev)\n",
    "\n",
    "    return edited_rev\n"
   ],
   "outputs": [],
   "metadata": {}
  },
  {
   "cell_type": "code",
   "execution_count": 145,
   "source": [
    "# Checking Cleaning Function\n",
    "\"\"\"rev1 = reviews[\"text\"][3]\n",
    "rev= cleanReview(rev1)\n",
    "rev\"\"\"\n",
    "\n"
   ],
   "outputs": [
    {
     "output_type": "execute_result",
     "data": {
      "text/plain": [
       "'rev1 = reviews[\"text\"][3]\\nrev= cleanReview(rev1)\\nrev'"
      ]
     },
     "metadata": {},
     "execution_count": 145
    }
   ],
   "metadata": {}
  },
  {
   "cell_type": "code",
   "execution_count": 146,
   "source": [
    "review_list = []\n",
    "\n",
    "# Adding all of the movie reviews to a list\n",
    "for r in reviews[\"text\"]:\n",
    "    review_list.append(cleanReview(r))\n"
   ],
   "outputs": [],
   "metadata": {}
  },
  {
   "cell_type": "code",
   "execution_count": 147,
   "source": [
    "#Start of tokenizing\n",
    "words = \" \".join(review_list)\n",
    "words = list(words.split(\" \"))"
   ],
   "outputs": [],
   "metadata": {}
  },
  {
   "cell_type": "code",
   "execution_count": 148,
   "source": [
    "#Getting word counts\n",
    "totalCounts = {}\n",
    "for j in range(len(words)):\n",
    "    if words[j] not in totalCounts:\n",
    "        totalCounts[words[j]] = 1\n",
    "    if words[j] in totalCounts:\n",
    "        totalCounts[words[j]] += 1"
   ],
   "outputs": [],
   "metadata": {}
  },
  {
   "cell_type": "code",
   "execution_count": 149,
   "source": [
    "#Sorting dictionary to have highest word counts first\n",
    "sorted_counts=dict(sorted(totalCounts.items(), key=lambda x: x[1], reverse=True))"
   ],
   "outputs": [],
   "metadata": {}
  },
  {
   "cell_type": "code",
   "execution_count": 150,
   "source": [
    "#Making the highest word count value be 1, etc.\n",
    "w_to_i = {w:i+1 for i, (w) in enumerate(sorted_counts)}"
   ],
   "outputs": [],
   "metadata": {}
  },
  {
   "cell_type": "code",
   "execution_count": 151,
   "source": [
    "# Encoding the words by replacing the word with its given integer\n",
    "X = []\n",
    "for m in review_list:\n",
    "    r = [w_to_i[w] for w in m.split()]\n",
    "    X.append(r)"
   ],
   "outputs": [],
   "metadata": {}
  },
  {
   "cell_type": "code",
   "execution_count": 152,
   "source": [
    "import statistics\n",
    "lengths = []\n",
    "for i in range(len(X)):\n",
    "    l = len(X[i])\n",
    "    lengths.append(l)\n",
    "statistics.mean(lengths)"
   ],
   "outputs": [
    {
     "output_type": "execute_result",
     "data": {
      "text/plain": [
       "221.0492"
      ]
     },
     "metadata": {},
     "execution_count": 152
    }
   ],
   "metadata": {}
  },
  {
   "cell_type": "code",
   "execution_count": 160,
   "source": [
    "#Padding for different review lengths\n",
    "X_array = np.zeros((len(X), 220), dtype =int)\n",
    "for i, rev2 in enumerate(X):\n",
    "    rev_length = len(rev2)\n",
    "\n",
    "    if rev_length <= 220:\n",
    "        zeros = list(np.zeros(220-rev_length))\n",
    "        mat = zeros + rev2\n",
    "    elif rev_length > 220:\n",
    "        mat = rev2[0:220]\n",
    "    X_array[i,:] = np.array(mat)"
   ],
   "outputs": [],
   "metadata": {}
  },
  {
   "cell_type": "code",
   "execution_count": null,
   "source": [
    "# Creating a training and test data sets\n",
    "y = reviews[\"label\"]\n",
    "\n",
    "y = np.array(list(map(lambda x: 1 if x == 1 else 0, y)))"
   ],
   "outputs": [],
   "metadata": {}
  },
  {
   "cell_type": "code",
   "execution_count": 161,
   "source": [
    "X_train, X_test, y_train, y_test = train_test_split(\n",
    "    X_array, y, test_size=0.20, random_state=42\n",
    ")"
   ],
   "outputs": [],
   "metadata": {}
  }
 ],
 "metadata": {
  "orig_nbformat": 4,
  "language_info": {
   "name": "python",
   "version": "3.9.5",
   "mimetype": "text/x-python",
   "codemirror_mode": {
    "name": "ipython",
    "version": 3
   },
   "pygments_lexer": "ipython3",
   "nbconvert_exporter": "python",
   "file_extension": ".py"
  },
  "kernelspec": {
   "name": "python3",
   "display_name": "Python 3.9.5 64-bit ('base': conda)"
  },
  "interpreter": {
   "hash": "38c18047c26b703873e5d1c67aa077ffaecd4253521ad5525ad97427484c7053"
  }
 },
 "nbformat": 4,
 "nbformat_minor": 2
}
